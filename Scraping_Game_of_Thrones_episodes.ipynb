{
 "metadata": {
  "language_info": {
   "codemirror_mode": {
    "name": "ipython",
    "version": 3
   },
   "file_extension": ".py",
   "mimetype": "text/x-python",
   "name": "python",
   "nbconvert_exporter": "python",
   "pygments_lexer": "ipython3",
   "version": "3.8.4-final"
  },
  "orig_nbformat": 2,
  "kernelspec": {
   "name": "Python 3.8.4 32-bit",
   "display_name": "Python 3.8.4 32-bit",
   "metadata": {
    "interpreter": {
     "hash": "f0cdc4910d9deca7a9de00566e555a3d4346f2a62c848a4400c41f68aafe997e"
    }
   }
  }
 },
 "nbformat": 4,
 "nbformat_minor": 2,
 "cells": [
  {
   "cell_type": "code",
   "execution_count": 24,
   "metadata": {},
   "outputs": [],
   "source": [
    "import requests\n",
    "from bs4 import BeautifulSoup\n",
    "import pandas as pd"
   ]
  },
  {
   "cell_type": "code",
   "execution_count": 25,
   "metadata": {},
   "outputs": [],
   "source": [
    "url = 'https://en.wikipedia.org/wiki/List_of_Game_of_Thrones_episodes'"
   ]
  },
  {
   "cell_type": "code",
   "execution_count": 26,
   "metadata": {
    "tags": []
   },
   "outputs": [],
   "source": [
    "page = requests.get(url)\n",
    "# print(page.status_code)"
   ]
  },
  {
   "cell_type": "code",
   "execution_count": 27,
   "metadata": {},
   "outputs": [],
   "source": [
    "soup  = BeautifulSoup(page.text , 'html.parser')"
   ]
  },
  {
   "cell_type": "code",
   "execution_count": 28,
   "metadata": {},
   "outputs": [],
   "source": [
    "episode_table = soup.find_all('table' , class_ = 'wikitable plainrowheaders wikiepisodetable')"
   ]
  },
  {
   "cell_type": "code",
   "execution_count": 29,
   "metadata": {
    "tags": []
   },
   "outputs": [],
   "source": [
    "# for table in episode_table :\n",
    "#     rows = table.find_all('tr')[1:]\n",
    "#     for items in rows:\n",
    "#         season_number = items.find_all('td')[0].get_text()\n",
    "#         director =  items.find_all('td')[2].get_text()\n",
    "#         print(season_number , director)"
   ]
  },
  {
   "cell_type": "code",
   "execution_count": 30,
   "metadata": {},
   "outputs": [],
   "source": [
    "episodes = []\n",
    "for table in episode_table:\n",
    "    heders = []\n",
    "    for heder in table.find('tr').find_all('th'):\n",
    "        heders.append(heder.text)\n",
    "    for row in table.find_all('tr')[1:]:\n",
    "        values = []\n",
    "        for col in row.find_all(['th','td']):\n",
    "            values.append(col.text)\n",
    "        episode_dict = { heders[i] : values[i] for i in range(len(values)) }\n",
    "        episodes.append(episode_dict)"
   ]
  },
  {
   "cell_type": "code",
   "execution_count": 31,
   "metadata": {},
   "outputs": [],
   "source": [
    "df = pd.DataFrame(episodes)"
   ]
  },
  {
   "cell_type": "code",
   "execution_count": 32,
   "metadata": {},
   "outputs": [],
   "source": [
    "df = df.drop(['No.', 'Original air date'], axis=1)"
   ]
  },
  {
   "cell_type": "code",
   "execution_count": 33,
   "metadata": {},
   "outputs": [],
   "source": [
    "df = df[:73]"
   ]
  },
  {
   "cell_type": "code",
   "execution_count": 34,
   "metadata": {},
   "outputs": [],
   "source": [
    "df.to_csv(\"Game_of_Thrones_episodes.csv\")"
   ]
  },
  {
   "cell_type": "code",
   "execution_count": 35,
   "metadata": {},
   "outputs": [
    {
     "output_type": "execute_result",
     "data": {
      "text/plain": "   No.overall No. inseason                                    Title  \\\n0           1            1                       \"Winter Is Coming\"   \n1           2            2                          \"The Kingsroad\"   \n2           3            3                              \"Lord Snow\"   \n3           4            4  \"Cripples, Bastards, and Broken Things\"   \n4           5            5                  \"The Wolf and the Lion\"   \n..        ...          ...                                      ...   \n68         69            2         \"A Knight of the Seven Kingdoms\"   \n69         70            3                         \"The Long Night\"   \n70         71            4                 \"The Last of the Starks\"   \n71         72            5                              \"The Bells\"   \n72         73            6                        \"The Iron Throne\"   \n\n                    Directed by                   Written by  \\\n0                Tim Van Patten  David Benioff & D. B. Weiss   \n1                Tim Van Patten  David Benioff & D. B. Weiss   \n2                    Brian Kirk  David Benioff & D. B. Weiss   \n3                    Brian Kirk                 Bryan Cogman   \n4                    Brian Kirk  David Benioff & D. B. Weiss   \n..                          ...                          ...   \n68                 David Nutter                 Bryan Cogman   \n69             Miguel Sapochnik  David Benioff & D. B. Weiss   \n70                 David Nutter  David Benioff & D. B. Weiss   \n71             Miguel Sapochnik  David Benioff & D. B. Weiss   \n72  David Benioff & D. B. Weiss  David Benioff & D. B. Weiss   \n\n         Original air date [20] U.S. viewers(millions)  \n0   April 17, 2011 (2011-04-17)               2.22[21]  \n1   April 24, 2011 (2011-04-24)               2.20[22]  \n2      May 1, 2011 (2011-05-01)               2.44[23]  \n3      May 8, 2011 (2011-05-08)               2.45[24]  \n4     May 15, 2011 (2011-05-15)               2.58[25]  \n..                          ...                    ...  \n68  April 21, 2019 (2019-04-21)              10.29[89]  \n69  April 28, 2019 (2019-04-28)              12.02[90]  \n70     May 5, 2019 (2019-05-05)              11.80[91]  \n71    May 12, 2019 (2019-05-12)              12.48[92]  \n72    May 19, 2019 (2019-05-19)              13.61[93]  \n\n[73 rows x 7 columns]",
      "text/html": "<div>\n<style scoped>\n    .dataframe tbody tr th:only-of-type {\n        vertical-align: middle;\n    }\n\n    .dataframe tbody tr th {\n        vertical-align: top;\n    }\n\n    .dataframe thead th {\n        text-align: right;\n    }\n</style>\n<table border=\"1\" class=\"dataframe\">\n  <thead>\n    <tr style=\"text-align: right;\">\n      <th></th>\n      <th>No.overall</th>\n      <th>No. inseason</th>\n      <th>Title</th>\n      <th>Directed by</th>\n      <th>Written by</th>\n      <th>Original air date [20]</th>\n      <th>U.S. viewers(millions)</th>\n    </tr>\n  </thead>\n  <tbody>\n    <tr>\n      <th>0</th>\n      <td>1</td>\n      <td>1</td>\n      <td>\"Winter Is Coming\"</td>\n      <td>Tim Van Patten</td>\n      <td>David Benioff &amp; D. B. Weiss</td>\n      <td>April 17, 2011 (2011-04-17)</td>\n      <td>2.22[21]</td>\n    </tr>\n    <tr>\n      <th>1</th>\n      <td>2</td>\n      <td>2</td>\n      <td>\"The Kingsroad\"</td>\n      <td>Tim Van Patten</td>\n      <td>David Benioff &amp; D. B. Weiss</td>\n      <td>April 24, 2011 (2011-04-24)</td>\n      <td>2.20[22]</td>\n    </tr>\n    <tr>\n      <th>2</th>\n      <td>3</td>\n      <td>3</td>\n      <td>\"Lord Snow\"</td>\n      <td>Brian Kirk</td>\n      <td>David Benioff &amp; D. B. Weiss</td>\n      <td>May 1, 2011 (2011-05-01)</td>\n      <td>2.44[23]</td>\n    </tr>\n    <tr>\n      <th>3</th>\n      <td>4</td>\n      <td>4</td>\n      <td>\"Cripples, Bastards, and Broken Things\"</td>\n      <td>Brian Kirk</td>\n      <td>Bryan Cogman</td>\n      <td>May 8, 2011 (2011-05-08)</td>\n      <td>2.45[24]</td>\n    </tr>\n    <tr>\n      <th>4</th>\n      <td>5</td>\n      <td>5</td>\n      <td>\"The Wolf and the Lion\"</td>\n      <td>Brian Kirk</td>\n      <td>David Benioff &amp; D. B. Weiss</td>\n      <td>May 15, 2011 (2011-05-15)</td>\n      <td>2.58[25]</td>\n    </tr>\n    <tr>\n      <th>...</th>\n      <td>...</td>\n      <td>...</td>\n      <td>...</td>\n      <td>...</td>\n      <td>...</td>\n      <td>...</td>\n      <td>...</td>\n    </tr>\n    <tr>\n      <th>68</th>\n      <td>69</td>\n      <td>2</td>\n      <td>\"A Knight of the Seven Kingdoms\"</td>\n      <td>David Nutter</td>\n      <td>Bryan Cogman</td>\n      <td>April 21, 2019 (2019-04-21)</td>\n      <td>10.29[89]</td>\n    </tr>\n    <tr>\n      <th>69</th>\n      <td>70</td>\n      <td>3</td>\n      <td>\"The Long Night\"</td>\n      <td>Miguel Sapochnik</td>\n      <td>David Benioff &amp; D. B. Weiss</td>\n      <td>April 28, 2019 (2019-04-28)</td>\n      <td>12.02[90]</td>\n    </tr>\n    <tr>\n      <th>70</th>\n      <td>71</td>\n      <td>4</td>\n      <td>\"The Last of the Starks\"</td>\n      <td>David Nutter</td>\n      <td>David Benioff &amp; D. B. Weiss</td>\n      <td>May 5, 2019 (2019-05-05)</td>\n      <td>11.80[91]</td>\n    </tr>\n    <tr>\n      <th>71</th>\n      <td>72</td>\n      <td>5</td>\n      <td>\"The Bells\"</td>\n      <td>Miguel Sapochnik</td>\n      <td>David Benioff &amp; D. B. Weiss</td>\n      <td>May 12, 2019 (2019-05-12)</td>\n      <td>12.48[92]</td>\n    </tr>\n    <tr>\n      <th>72</th>\n      <td>73</td>\n      <td>6</td>\n      <td>\"The Iron Throne\"</td>\n      <td>David Benioff &amp; D. B. Weiss</td>\n      <td>David Benioff &amp; D. B. Weiss</td>\n      <td>May 19, 2019 (2019-05-19)</td>\n      <td>13.61[93]</td>\n    </tr>\n  </tbody>\n</table>\n<p>73 rows × 7 columns</p>\n</div>"
     },
     "metadata": {},
     "execution_count": 35
    }
   ],
   "source": [
    "df"
   ]
  },
  {
   "cell_type": "code",
   "execution_count": null,
   "metadata": {},
   "outputs": [],
   "source": []
  }
 ]
}